{
 "cells": [
  {
   "cell_type": "code",
   "execution_count": null,
   "metadata": {},
   "outputs": [],
   "source": [
    "########### funciones #############\n",
    "\n",
    "1.\n",
    "def "
   ]
  },
  {
   "cell_type": "code",
   "execution_count": 1,
   "metadata": {},
   "outputs": [
    {
     "ename": "AttributeError",
     "evalue": "'str' object has no attribute 'acount'",
     "output_type": "error",
     "traceback": [
      "\u001b[0;31m---------------------------------------------------------------------------\u001b[0m",
      "\u001b[0;31mAttributeError\u001b[0m                            Traceback (most recent call last)",
      "Cell \u001b[0;32mIn[1], line 7\u001b[0m\n\u001b[1;32m      4\u001b[0m     \u001b[38;5;28;01mreturn\u001b[39;00m cuantos\n\u001b[1;32m      6\u001b[0m nombre_usuario \u001b[38;5;241m=\u001b[39m \u001b[38;5;124m\"\u001b[39m\u001b[38;5;124mMaría\u001b[39m\u001b[38;5;124m\"\u001b[39m\n\u001b[0;32m----> 7\u001b[0m contar\u001b[38;5;241m=\u001b[39m \u001b[43mcontar_caracteres\u001b[49m\u001b[43m(\u001b[49m\u001b[43mnombre_usuario\u001b[49m\u001b[43m)\u001b[49m\n\u001b[1;32m      8\u001b[0m \u001b[38;5;28mprint\u001b[39m(scontar_caracteres)  \n\u001b[1;32m     11\u001b[0m pa\n",
      "Cell \u001b[0;32mIn[1], line 3\u001b[0m, in \u001b[0;36mcontar_caracteres\u001b[0;34m(nombre)\u001b[0m\n\u001b[1;32m      2\u001b[0m \u001b[38;5;28;01mdef\u001b[39;00m \u001b[38;5;21mcontar_caracteres\u001b[39m (nombre):\n\u001b[0;32m----> 3\u001b[0m     cuantos \u001b[38;5;241m=\u001b[39m \u001b[43mnombre\u001b[49m\u001b[38;5;241;43m.\u001b[39;49m\u001b[43macount\u001b[49m()\n\u001b[1;32m      4\u001b[0m     \u001b[38;5;28;01mreturn\u001b[39;00m cuantos\n",
      "\u001b[0;31mAttributeError\u001b[0m: 'str' object has no attribute 'acount'"
     ]
    }
   ],
   "source": [
    "#2\n",
    "def contar_caracteres (nombre):\n",
    "    cuantos = nombre.acount()\n",
    "    return cuantos\n",
    "\n",
    "nombre_usuario = \"María\"\n",
    "contar= contar_caracteres(nombre_usuario)\n",
    "print(scontar_caracteres)  \n",
    "\n",
    "\n",
    "pa"
   ]
  },
  {
   "cell_type": "code",
   "execution_count": null,
   "metadata": {},
   "outputs": [],
   "source": []
  }
 ],
 "metadata": {
  "kernelspec": {
   "display_name": "Python 3",
   "language": "python",
   "name": "python3"
  },
  "language_info": {
   "codemirror_mode": {
    "name": "ipython",
    "version": 3
   },
   "file_extension": ".py",
   "mimetype": "text/x-python",
   "name": "python",
   "nbconvert_exporter": "python",
   "pygments_lexer": "ipython3",
   "version": "3.9.6"
  }
 },
 "nbformat": 4,
 "nbformat_minor": 2
}
