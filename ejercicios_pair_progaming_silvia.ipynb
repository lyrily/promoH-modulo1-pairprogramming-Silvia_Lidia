{
 "cells": [
  {
   "cell_type": "code",
   "execution_count": 17,
   "metadata": {},
   "outputs": [
    {
     "name": "stdout",
     "output_type": "stream",
     "text": [
      "{}\n",
      "{'leon': 'tierra', 'deslfin': 'agua', 'pajaro': 'aire', 'perro': 'fiel', 'gato': 'bigotes'}\n",
      "{'leon': 'tierra', 'deslfin': 'agua', 'pajaro': 'aire', 'perro': 'fiel', 'gato': 'bigotes', 'tortuga': 'lenta'}\n",
      "{'leon': 'tierra', 'deslfin': 'agua', 'pajaro': 'alas', 'perro': 'fiel', 'gato': 'bigotes', 'tortuga': 'lenta'}\n"
     ]
    }
   ],
   "source": [
    "# pair programming diccionario-set\n",
    "\n",
    "#1 \n",
    "animales={}\n",
    "print(animales)\n",
    "\n",
    "2# \n",
    "animales={\"leon\":\"tierra\",\"deslfin\":\"agua\",\"pajaro\":\"aire\",\"perro\":\"fiel\",\"gato\":\"bigotes\"}\n",
    "print(animales)\n",
    "\n",
    "3#\n",
    "\n",
    "\n",
    "\n",
    "4#\n",
    "animales2={\"tortuga\":\"lenta\"}\n",
    "animales.update(animales2)\n",
    "print(animales)\n",
    "\n",
    "5#\n",
    "animales[\"pajaro\"]=\"alas\"\n",
    "print(animales)\n",
    "\n",
    "\n",
    "6#\n",
    "\n"
   ]
  },
  {
   "cell_type": "code",
   "execution_count": 23,
   "metadata": {},
   "outputs": [
    {
     "data": {
      "text/plain": [
       "'tierra'"
      ]
     },
     "execution_count": 23,
     "metadata": {},
     "output_type": "execute_result"
    }
   ],
   "source": [
    "\n",
    "#8\n",
    "animales.keys()\n",
    "\n",
    "9#\n",
    "animales.values()\n",
    "\n",
    "10#\n",
    "animales.setdefault(\"leon\")\n",
    "\n"
   ]
  },
  {
   "cell_type": "code",
   "execution_count": null,
   "metadata": {},
   "outputs": [],
   "source": [
    "11#"
   ]
  },
  {
   "cell_type": "code",
   "execution_count": null,
   "metadata": {},
   "outputs": [],
   "source": []
  }
 ],
 "metadata": {
  "kernelspec": {
   "display_name": "Python 3",
   "language": "python",
   "name": "python3"
  },
  "language_info": {
   "codemirror_mode": {
    "name": "ipython",
    "version": 3
   },
   "file_extension": ".py",
   "mimetype": "text/x-python",
   "name": "python",
   "nbconvert_exporter": "python",
   "pygments_lexer": "ipython3",
   "version": "3.9.6"
  }
 },
 "nbformat": 4,
 "nbformat_minor": 2
}
