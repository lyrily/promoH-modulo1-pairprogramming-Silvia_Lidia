{
 "cells": [
  {
   "cell_type": "code",
   "execution_count": 6,
   "metadata": {},
   "outputs": [
    {
     "name": "stdout",
     "output_type": "stream",
     "text": [
      "True\n",
      "True\n",
      "False\n",
      "True\n"
     ]
    }
   ],
   "source": [
    "numero1 = 10\n",
    "numero2 = 5\n",
    "numero3 = 7\n",
    "print(numero1>numero2)\n",
    "print(numero1<numero2 or numero1>numero3)\n",
    "print(numero3 == numero2)\n",
    "print(numero2!=numero1)"
   ]
  },
  {
   "cell_type": "code",
   "execution_count": 13,
   "metadata": {},
   "outputs": [
    {
     "name": "stdout",
     "output_type": "stream",
     "text": [
      "19.6\n",
      "4.799999999999999\n",
      "4.799999999999999\n",
      "1.0\n"
     ]
    }
   ],
   "source": [
    "altura1=12.2\n",
    "altura2=7.40\n",
    "print(altura1+altura2)\n",
    "print(altura1-altura2)\n",
    "print(altura1%altura2)\n",
    "print(altura1//altura2)"
   ]
  },
  {
   "cell_type": "code",
   "execution_count": 26,
   "metadata": {},
   "outputs": [
    {
     "name": "stdout",
     "output_type": "stream",
     "text": [
      "LIDIA FRAILE\n",
      "lidia fraile\n",
      "Lidia Fraile\n",
      "Lidia fraile\n"
     ]
    }
   ],
   "source": [
    "\n",
    "nombre_apellidos=input()\n",
    "print(nombre_apellidos.upper())\n",
    "print(nombre_apellidos.lower())\n",
    "print(nombre_apellidos.title())\n",
    "print(nombre_apellidos.capitalize())\n"
   ]
  },
  {
   "cell_type": "code",
   "execution_count": 30,
   "metadata": {},
   "outputs": [],
   "source": [
    "frase=  input(\"que frase\") \n",
    "voz= input(\"por una voz\")"
   ]
  }
 ],
 "metadata": {
  "kernelspec": {
   "display_name": "Python 3",
   "language": "python",
   "name": "python3"
  },
  "language_info": {
   "codemirror_mode": {
    "name": "ipython",
    "version": 3
   },
   "file_extension": ".py",
   "mimetype": "text/x-python",
   "name": "python",
   "nbconvert_exporter": "python",
   "pygments_lexer": "ipython3",
   "version": "3.9.6"
  }
 },
 "nbformat": 4,
 "nbformat_minor": 2
}
