{
 "cells": [
  {
   "cell_type": "code",
   "execution_count": 1,
   "metadata": {},
   "outputs": [
    {
     "name": "stdout",
     "output_type": "stream",
     "text": [
      "<function calcular_area_circulo at 0x7ff3522fc310>\n"
     ]
    }
   ],
   "source": [
    "# 1 Calcular el área de un círculo.\n",
    "\n",
    "# Descripción: Crea una función llamada calcular_area_circulo que tome el radio como parámetro y devuelva el área del círculo.\n",
    "\n",
    "def calcular_area_circulo (r):\n",
    "\n",
    "    A= 3,1415*r \n",
    "    return A\n",
    "\n",
    "\n",
    "#damos un valor al radio\n",
    "\n",
    "radio=5\n",
    "print(calcular_area_circulo)\n",
    "\n"
   ]
  },
  {
   "cell_type": "code",
   "execution_count": 15,
   "metadata": {},
   "outputs": [
    {
     "name": "stdout",
     "output_type": "stream",
     "text": [
      "8\n"
     ]
    }
   ],
   "source": [
    "# 2 Contar la cantidad de caracteres en una cadena.\n",
    "\n",
    "# Descripción: Crea una función llamada contar_caracteres que tome una cadena como parámetro y devuelva la cantidad de caracteres que contiene.\n",
    "\n",
    "def contar_caracteres(palabra):\n",
    "    cantidad_caracteres=len(palabra)\n",
    "        \n",
    "    return cantidad_caracteres\n",
    "    \n",
    "\n",
    "nueva_palabra= \"bootcamp\"\n",
    "contar=contar_caracteres(nueva_palabra) \n",
    "print(contar)\n",
    "\n",
    "\n"
   ]
  },
  {
   "cell_type": "code",
   "execution_count": 16,
   "metadata": {},
   "outputs": [],
   "source": [
    "# 3 Determinar si una cadena es un palíndromo.\n",
    "#Descripción: Crea una función llamada es_palindromo que tome una cadena como parámetro y devuelva True si es un palíndromo, o False si no lo es.\n",
    "\n",
    "def es_palindromo(palindromo):\n",
    "    \n",
    "    # Comprueba si la cadena es igual a su inversa\n",
    "    return palindromo == palindormo[::-1] \n",
    "\n",
    "    \n",
    "palindromo\n",
    "\n",
    "## reverse?? / =="
   ]
  }
 ],
 "metadata": {
  "kernelspec": {
   "display_name": "base",
   "language": "python",
   "name": "python3"
  },
  "language_info": {
   "codemirror_mode": {
    "name": "ipython",
    "version": 3
   },
   "file_extension": ".py",
   "mimetype": "text/x-python",
   "name": "python",
   "nbconvert_exporter": "python",
   "pygments_lexer": "ipython3",
   "version": "3.9.7"
  }
 },
 "nbformat": 4,
 "nbformat_minor": 2
}
