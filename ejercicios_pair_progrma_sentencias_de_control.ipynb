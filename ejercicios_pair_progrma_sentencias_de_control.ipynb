{
 "cells": [
  {
   "cell_type": "code",
   "execution_count": null,
   "metadata": {},
   "outputs": [],
   "source": [
    "# ejercicios pair programing silvia y lydia. sentencias de control\n"
   ]
  },
  {
   "cell_type": "code",
   "execution_count": 16,
   "metadata": {},
   "outputs": [
    {
     "name": "stdout",
     "output_type": "stream",
     "text": [
      "numero es o\n"
     ]
    }
   ],
   "source": [
    "#1\n",
    "numero=0\n",
    "\n",
    "if numero > 0:\n",
    "    print(\"positivo\")\n",
    "elif numero == 0:\n",
    "    print(\"numero es o\")\n",
    "else:\n",
    "    print( \"numero negativo\")\n"
   ]
  },
  {
   "cell_type": "code",
   "execution_count": 21,
   "metadata": {},
   "outputs": [
    {
     "name": "stdout",
     "output_type": "stream",
     "text": [
      "numero es par\n"
     ]
    }
   ],
   "source": [
    "#2\n",
    "numero=6\n",
    "\n",
    "if numero%2 ==0:\n",
    "    print(\"numero es par\")\n",
    "else:\n",
    "    print(\"impar\")\n"
   ]
  },
  {
   "cell_type": "code",
   "execution_count": 22,
   "metadata": {},
   "outputs": [
    {
     "name": "stdout",
     "output_type": "stream",
     "text": [
      "aprobado!\n"
     ]
    }
   ],
   "source": [
    "#3\n",
    "nota=70\n",
    "\n",
    "if nota>60:\n",
    "    print(\"aprobado!\")\n",
    "else:\n",
    "    print(\"suspendidio\")\n"
   ]
  },
  {
   "cell_type": "code",
   "execution_count": null,
   "metadata": {},
   "outputs": [],
   "source": [
    "#4\n",
    "numero2=9\n",
    "numero3=12\n"
   ]
  },
  {
   "cell_type": "code",
   "execution_count": null,
   "metadata": {},
   "outputs": [],
   "source": []
  },
  {
   "cell_type": "code",
   "execution_count": null,
   "metadata": {},
   "outputs": [],
   "source": []
  }
 ],
 "metadata": {
  "kernelspec": {
   "display_name": "Python 3",
   "language": "python",
   "name": "python3"
  },
  "language_info": {
   "codemirror_mode": {
    "name": "ipython",
    "version": 3
   },
   "file_extension": ".py",
   "mimetype": "text/x-python",
   "name": "python",
   "nbconvert_exporter": "python",
   "pygments_lexer": "ipython3",
   "version": "3.9.6"
  }
 },
 "nbformat": 4,
 "nbformat_minor": 2
}
