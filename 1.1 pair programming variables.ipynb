{
 "cells": [
  {
   "cell_type": "code",
   "execution_count": 2,
   "metadata": {},
   "outputs": [],
   "source": [
    "numero1 = 2\n",
    "numero2 = 5\n",
    "numero3 = 8"
   ]
  },
  {
   "cell_type": "code",
   "execution_count": 3,
   "metadata": {},
   "outputs": [
    {
     "name": "stdout",
     "output_type": "stream",
     "text": [
      "False\n"
     ]
    }
   ],
   "source": [
    "# Utilizando los operadores lógicos\n",
    "print (numero1 > numero2)"
   ]
  },
  {
   "cell_type": "code",
   "execution_count": 4,
   "metadata": {},
   "outputs": [
    {
     "name": "stdout",
     "output_type": "stream",
     "text": [
      "False\n"
     ]
    }
   ],
   "source": [
    "# Es el numero1 menor que el numero2 pero mayor que el numero3\n",
    "print (numero1 < numero2\n",
    "       and numero1 > numero3)"
   ]
  },
  {
   "cell_type": "code",
   "execution_count": 5,
   "metadata": {},
   "outputs": [
    {
     "name": "stdout",
     "output_type": "stream",
     "text": [
      "False\n"
     ]
    }
   ],
   "source": [
    "#Es el numero3 igual que el numero2\n",
    "print (numero3 == numero2)"
   ]
  },
  {
   "cell_type": "code",
   "execution_count": 6,
   "metadata": {},
   "outputs": [
    {
     "name": "stdout",
     "output_type": "stream",
     "text": [
      "True\n"
     ]
    }
   ],
   "source": [
    "#Es el numero2 distinto que el numero1\n",
    "print (numero2 != numero1)"
   ]
  },
  {
   "cell_type": "code",
   "execution_count": 9,
   "metadata": {},
   "outputs": [
    {
     "name": "stdout",
     "output_type": "stream",
     "text": [
      "3.48\n",
      "-0.1200000000000001\n",
      "0.1200000000000001\n"
     ]
    },
    {
     "data": {
      "text/plain": [
       "0.93"
      ]
     },
     "execution_count": 9,
     "metadata": {},
     "output_type": "execute_result"
    }
   ],
   "source": [
    "# Cread dos variables numéricas de tipo float (decimal) con dos decimales, llamdas de la siguiente forma:\n",
    "altura1 = 1.68\n",
    "altura2= 1.80 \n",
    "\n",
    "#Cuál es la suma de las dos alturas\n",
    "print (altura1+altura2)\n",
    "\n",
    "#Cuál es la diferencia entre las alturas\n",
    "print ( altura1-altura2)\n",
    "\n",
    "#Cuál es el resto de la división de las dos alturas\n",
    "print(altura2%altura1)\n",
    "\n",
    "#Cuál es resultado de la división de las dos alturas, redondead el resultado a un decimal.\n",
    "round(altura1/altura2, 2)"
   ]
  },
  {
   "cell_type": "code",
   "execution_count": 11,
   "metadata": {},
   "outputs": [
    {
     "name": "stdout",
     "output_type": "stream",
     "text": [
      "SILVIA ADALABER\n"
     ]
    }
   ],
   "source": [
    "# Escribid un programa usando la función input() que le pregunte al usuario su nombre y apellidos. Una vez que tengamos el nombre del usuario:\n",
    "\n",
    "nombre_completo = input()\n",
    "print(nombre_completo.upper())\n"
   ]
  },
  {
   "cell_type": "code",
   "execution_count": 13,
   "metadata": {},
   "outputs": [
    {
     "name": "stdout",
     "output_type": "stream",
     "text": [
      "Silvia Adalaber\n",
      "Silvia adalaber\n"
     ]
    }
   ],
   "source": [
    "#Printead su nombre y apellidos con la primera letra del nombre y los apellidos en mayúscula y el resto en minúscula.\n",
    "\n",
    "print(nombre_completo.title())\n",
    "\n",
    "print(nombre_completo.capitalize())"
   ]
  },
  {
   "cell_type": "code",
   "execution_count": 20,
   "metadata": {},
   "outputs": [
    {
     "name": "stdout",
     "output_type": "stream",
     "text": [
      "elefante\n"
     ]
    },
    {
     "data": {
      "text/plain": [
       "'ElEfantE'"
      ]
     },
     "execution_count": 20,
     "metadata": {},
     "output_type": "execute_result"
    }
   ],
   "source": [
    "# Crear una funcion .input() que le pregunte al usuario por una frase, almacenad este resultado en una variable. \n",
    "\n",
    "animal_favorito = input(\"¿cual es tu animal favorito?\") \n",
    "\n",
    "letra=input(\"ahora dime una letra\")  \n",
    "\n",
    "# Printead la misma frase pero con la vocal introducida en mayúsulas. \n",
    "print(animal_favorito)\n",
    "\n",
    "animal_favorito.replace(\"e\", \"E\")\n",
    "\n"
   ]
  },
  {
   "cell_type": "code",
   "execution_count": 22,
   "metadata": {},
   "outputs": [
    {
     "name": "stdout",
     "output_type": "stream",
     "text": [
      "e\n"
     ]
    },
    {
     "data": {
      "text/plain": [
       "'ElEfantE'"
      ]
     },
     "execution_count": 22,
     "metadata": {},
     "output_type": "execute_result"
    }
   ],
   "source": [
    "print(letra)\n",
    "\n",
    "animal_favorito.replace(letra, letra.upper())"
   ]
  },
  {
   "cell_type": "code",
   "execution_count": 35,
   "metadata": {},
   "outputs": [
    {
     "name": "stdout",
     "output_type": "stream",
     "text": [
      "cereales, pan, platanos\n",
      "['cereales,', 'pan,', 'platanos']\n"
     ]
    }
   ],
   "source": [
    "# Le pregunte al usuario por la lista de la compra, separando cada elemento por comas.\n",
    "\n",
    "lista_compra=input(\"escribeme 3 elementos de tu lista de la compra separadas por comas\")\n",
    "\n",
    "print(lista_compra)\n",
    "\n",
    "print(lista_compra.split()) \n",
    "\n",
    "lista_compra2=lista_compra.split(\",\") \n"
   ]
  }
 ],
 "metadata": {
  "kernelspec": {
   "display_name": "base",
   "language": "python",
   "name": "python3"
  },
  "language_info": {
   "codemirror_mode": {
    "name": "ipython",
    "version": 3
   },
   "file_extension": ".py",
   "mimetype": "text/x-python",
   "name": "python",
   "nbconvert_exporter": "python",
   "pygments_lexer": "ipython3",
   "version": "3.9.7"
  }
 },
 "nbformat": 4,
 "nbformat_minor": 2
}
