{
 "cells": [
  {
   "cell_type": "code",
   "execution_count": 2,
   "metadata": {},
   "outputs": [
    {
     "name": "stdout",
     "output_type": "stream",
     "text": [
      "{}\n"
     ]
    }
   ],
   "source": [
    "# 1 Descripción: Crea un diccionario vacío sin ningún par clave-valor.\n",
    "animales = {}\n",
    "print (animales)"
   ]
  },
  {
   "cell_type": "code",
   "execution_count": 3,
   "metadata": {},
   "outputs": [
    {
     "name": "stdout",
     "output_type": "stream",
     "text": [
      "{'leon': 'tierra', 'delfin': 'agua', 'pájaro': 'aire', 'perro': 'fiel', 'gato': 'bigotes'}\n"
     ]
    }
   ],
   "source": [
    "# 2 Crea un diccionario con pares clave-valor predefinidos. Definir el diccionario con las claves y valores que querais. NOTA El diccionario debe tener al menos 5 pares de clave:valor.\n",
    "\n",
    "animales = {\"leon\":\"tierra\", \"delfin\": \"agua\", \"pájaro\":\"aire\", \"perro\":\"fiel\", \"gato\":\"bigotes\"} \n",
    "print (animales)"
   ]
  },
  {
   "cell_type": "code",
   "execution_count": 4,
   "metadata": {},
   "outputs": [
    {
     "data": {
      "text/plain": [
       "{'leon': 'tierra',\n",
       " 'delfin': 'agua',\n",
       " 'pájaro': 'aire',\n",
       " 'perro': 'fiel',\n",
       " 'gato': 'bigotes'}"
      ]
     },
     "execution_count": 4,
     "metadata": {},
     "output_type": "execute_result"
    }
   ],
   "source": [
    "# 3 Usando el diccionario creado en el paso anterior, obtén el valor correspondiente a una clave específica que indique el usuario (debereis usar la función input() para preguntar al usuario).\n",
    "\n",
    "animales"
   ]
  },
  {
   "cell_type": "code",
   "execution_count": 5,
   "metadata": {},
   "outputs": [
    {
     "name": "stdout",
     "output_type": "stream",
     "text": [
      "{'leon': 'tierra', 'delfin': 'agua', 'pájaro': 'aire', 'perro': 'fiel', 'gato': 'bigotes', 'toruga': 'lenta'}\n"
     ]
    }
   ],
   "source": [
    "# 4 Usando el diccionario creado en el ejercicio 2, agrega un nuevo par clave-valor.\n",
    "\n",
    "animales2 = {\"toruga\":\"lenta\"}\n",
    "\n",
    "animales.update(animales2)\n",
    "print (animales)"
   ]
  },
  {
   "cell_type": "code",
   "execution_count": 6,
   "metadata": {},
   "outputs": [
    {
     "name": "stdout",
     "output_type": "stream",
     "text": [
      "{'leon': 'tierra', 'delfin': 'agua', 'pájaro': 'alas', 'perro': 'fiel', 'gato': 'bigotes', 'toruga': 'lenta'}\n"
     ]
    }
   ],
   "source": [
    "# 5 Usando el diccionario creado en el ejercicio 2, actualiza el valor correspondiente a una clave existente\n",
    "\n",
    "animales[\"pájaro\"] = \"alas\" \n",
    "\n",
    "print (animales) \n"
   ]
  },
  {
   "cell_type": "code",
   "execution_count": 7,
   "metadata": {},
   "outputs": [],
   "source": [
    "# 6 Eliminar un par clave-valor de un diccionario\n",
    "\n",
    "animales.i\n"
   ]
  },
  {
   "cell_type": "code",
   "execution_count": null,
   "metadata": {},
   "outputs": [],
   "source": []
  },
  {
   "cell_type": "code",
   "execution_count": 8,
   "metadata": {},
   "outputs": [
    {
     "data": {
      "text/plain": [
       "dict_keys(['leon', 'delfin', 'pájaro', 'perro', 'gato', 'toruga'])"
      ]
     },
     "execution_count": 8,
     "metadata": {},
     "output_type": "execute_result"
    }
   ],
   "source": [
    "# 8 Usando el diccionario creado en el ejercicio 2, obtén una lista con todas las claves que contiene.\n",
    "\n",
    "animales.keys()"
   ]
  },
  {
   "cell_type": "code",
   "execution_count": 9,
   "metadata": {},
   "outputs": [
    {
     "data": {
      "text/plain": [
       "dict_values(['tierra', 'agua', 'alas', 'fiel', 'bigotes', 'lenta'])"
      ]
     },
     "execution_count": 9,
     "metadata": {},
     "output_type": "execute_result"
    }
   ],
   "source": [
    "# 9 Usando el diccionario creado en el ejercicio 2, obtén una lista con todos los valores que contiene.\n",
    "\n",
    "animales.values() "
   ]
  },
  {
   "cell_type": "code",
   "execution_count": 10,
   "metadata": {},
   "outputs": [
    {
     "data": {
      "text/plain": [
       "'tierra'"
      ]
     },
     "execution_count": 10,
     "metadata": {},
     "output_type": "execute_result"
    }
   ],
   "source": [
    "# 10 Usando el diccionario creado en el ejercicio 2, obten el valor correspondiente a una clave. Si la clave no existe, establece un valor predeterminado y devuelve dicho valor.\n",
    "\n",
    "animales.setdefault(\"leon\")"
   ]
  },
  {
   "cell_type": "code",
   "execution_count": 11,
   "metadata": {},
   "outputs": [
    {
     "name": "stdout",
     "output_type": "stream",
     "text": [
      "{'leon': 'tierra', 'delfin': 'agua', 'pájaro': 'alas', 'perro': 'fiel', 'gato': 'bigotes', 'toruga': 'lenta', 'dinosaurio': None}\n"
     ]
    }
   ],
   "source": [
    "animales.setdefault(\"dinosaurio\")\n",
    "\n",
    "print (animales)"
   ]
  },
  {
   "cell_type": "code",
   "execution_count": 12,
   "metadata": {},
   "outputs": [],
   "source": [
    "animales.setdefault(\"dinosaurio\",\"grande\" )\n"
   ]
  },
  {
   "cell_type": "code",
   "execution_count": 13,
   "metadata": {},
   "outputs": [
    {
     "name": "stdout",
     "output_type": "stream",
     "text": [
      "{'leon': 'tierra', 'delfin': 'agua', 'pájaro': 'alas', 'perro': 'fiel', 'gato': 'bigotes', 'toruga': 'lenta', 'dinosaurio': None}\n"
     ]
    }
   ],
   "source": [
    "print (animales)\n"
   ]
  },
  {
   "cell_type": "code",
   "execution_count": 18,
   "metadata": {},
   "outputs": [
    {
     "name": "stdout",
     "output_type": "stream",
     "text": [
      "{'leon': 'tierra', 'delfin': 'agua', 'pájaro': 'alas', 'perro': 'fiel', 'gato': 'bigotes', 'toruga': 'lenta', 'dinosaurio': None}\n"
     ]
    },
    {
     "data": {
      "text/plain": [
       "'lenta'"
      ]
     },
     "execution_count": 18,
     "metadata": {},
     "output_type": "execute_result"
    }
   ],
   "source": [
    "# 11 Manipulación de un diccionario utilizando pop() y popitem()\n",
    "print (animales)\n",
    "\n",
    "#eliminamos el elemento tortuga (nos devolvera el valor y lo elimina)\n",
    "\n",
    "animales.pop(\"toruga\")"
   ]
  },
  {
   "cell_type": "code",
   "execution_count": 19,
   "metadata": {},
   "outputs": [
    {
     "name": "stdout",
     "output_type": "stream",
     "text": [
      "{'leon': 'tierra', 'delfin': 'agua', 'pájaro': 'alas', 'perro': 'fiel', 'gato': 'bigotes', 'dinosaurio': None}\n"
     ]
    }
   ],
   "source": [
    "#comprobamos que se ha eliminado\n",
    "print (animales)"
   ]
  },
  {
   "cell_type": "code",
   "execution_count": 21,
   "metadata": {},
   "outputs": [
    {
     "data": {
      "text/plain": [
       "('dinosaurio', None)"
      ]
     },
     "execution_count": 21,
     "metadata": {},
     "output_type": "execute_result"
    }
   ],
   "source": [
    "# eliminamos el ÚLTIMO ELEMENTO con .popitem\n",
    "\n",
    "animales.popitem()"
   ]
  }
 ],
 "metadata": {
  "kernelspec": {
   "display_name": "base",
   "language": "python",
   "name": "python3"
  },
  "language_info": {
   "codemirror_mode": {
    "name": "ipython",
    "version": 3
   },
   "file_extension": ".py",
   "mimetype": "text/x-python",
   "name": "python",
   "nbconvert_exporter": "python",
   "pygments_lexer": "ipython3",
   "version": "3.9.7"
  }
 },
 "nbformat": 4,
 "nbformat_minor": 2
}
