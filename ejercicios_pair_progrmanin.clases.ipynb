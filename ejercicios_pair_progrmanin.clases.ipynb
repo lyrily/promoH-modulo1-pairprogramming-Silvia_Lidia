{
 "cells": [
  {
   "cell_type": "code",
   "execution_count": 14,
   "metadata": {},
   "outputs": [],
   "source": [
    "#########clases#######\n",
    "\n",
    "\n",
    "class Empleados:\n",
    "    def __init__ (self,nombre,apellidos,edad,posicion,año,vacaciones,herramientas):\n",
    "        self.nombre= nombre\n",
    "        self.apellidos=apellidos\n",
    "        self.edad=edad\n",
    "        self.posisicion=posicion\n",
    "        self.año=año\n",
    "        self.vacaciones=vacaciones\n",
    "        self.herramientas=herramientas\n",
    "    def descripcion (self):\n",
    "        return f\"el nombre del empleado: {self.nombre} posicion en la emperesa: {self.posicion} le quedan: {self.vacaciones}dias de vacaciones\"\n",
    "    \n",
    "    def cambiando_posicion(self):\n",
    "        if \"python\" in self.herramientas:\n",
    "            return \"enhorabuena usas python\"\n",
    "        elif \"excel\" in self.herramientas:\n",
    "            return \" prueba a usar python\"\n",
    "        else:\n",
    "            return \"ponte las pilas\"\n",
    "        \n",
    "    def calcular_antiguedad(self):\n",
    "        año_actual= datetime.now().year\n",
    "        \n",
    "        \n",
    "\n",
    "            \n",
    "    \n",
    "            "
   ]
  }
 ],
 "metadata": {
  "kernelspec": {
   "display_name": "Python 3",
   "language": "python",
   "name": "python3"
  },
  "language_info": {
   "codemirror_mode": {
    "name": "ipython",
    "version": 3
   },
   "file_extension": ".py",
   "mimetype": "text/x-python",
   "name": "python",
   "nbconvert_exporter": "python",
   "pygments_lexer": "ipython3",
   "version": "3.9.6"
  }
 },
 "nbformat": 4,
 "nbformat_minor": 2
}
